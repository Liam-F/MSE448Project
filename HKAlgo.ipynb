{
 "cells": [
  {
   "cell_type": "code",
   "execution_count": 2,
   "metadata": {
    "collapsed": false
   },
   "outputs": [
    {
     "ename": "ImportError",
     "evalue": "No module named simulator",
     "output_type": "error",
     "traceback": [
      "\u001b[1;31m---------------------------------------------------------------------------\u001b[0m",
      "\u001b[1;31mImportError\u001b[0m                               Traceback (most recent call last)",
      "\u001b[1;32m<ipython-input-2-94f5e838a607>\u001b[0m in \u001b[0;36m<module>\u001b[1;34m()\u001b[0m\n\u001b[0;32m      1\u001b[0m \u001b[1;32mimport\u001b[0m \u001b[0msys\u001b[0m\u001b[1;33m\u001b[0m\u001b[0m\n\u001b[0;32m      2\u001b[0m \u001b[1;31m#import simulator as sim\u001b[0m\u001b[1;33m\u001b[0m\u001b[1;33m\u001b[0m\u001b[0m\n\u001b[1;32m----> 3\u001b[1;33m from simulator import (\n\u001b[0m\u001b[0;32m      4\u001b[0m     \u001b[0mSimulator\u001b[0m\u001b[1;33m,\u001b[0m \u001b[0mstring_to_micro\u001b[0m\u001b[1;33m,\u001b[0m \u001b[0mmicro_to_time\u001b[0m\u001b[1;33m,\u001b[0m\u001b[1;33m\u001b[0m\u001b[0m\n\u001b[0;32m      5\u001b[0m     \u001b[0mBUY\u001b[0m\u001b[1;33m,\u001b[0m \u001b[0mSELL\u001b[0m\u001b[1;33m,\u001b[0m \u001b[0mSHORT\u001b[0m\u001b[1;33m,\u001b[0m \u001b[0mEXCH_INET\u001b[0m\u001b[1;33m,\u001b[0m\u001b[1;33m\u001b[0m\u001b[0m\n",
      "\u001b[1;31mImportError\u001b[0m: No module named simulator"
     ]
    }
   ],
   "source": [
    "import sys\n",
    "import simulator as sim\n",
    "import numpy as np\n",
    "import sklearn as skl\n",
    "\n",
    "class HKAlgo(object):\n",
    "    def __init__(self, session, date, ticker, start_time, end_time):\n",
    "        # Save session information\n",
    "        self.session = session\n",
    "        self.date = date\n",
    "        self.ticker = tickers\n",
    "        self.start_time = start_time\n",
    "        self.end_time = end_time\n",
    "        \n",
    "        # TODO: Additional data structures\n",
    "        self.book = {\"ask\": [], \"bid\": = []}\n",
    "        \n",
    "        # Suscribe to tickers and set first timer\n",
    "        self.session.subscribe_ticker_all_feeds(ticker)\n",
    "        self.session.add_timer(self.start_time, self.timer_OBS_callback)       \n",
    " \n",
    "    def timer_OBS_callback:\n",
    "\n",
    "    def timer_order_callback:\n",
    "        \n",
    "    def update_order:\n",
    "\n",
    "    def cancel_order:\n",
    "        \n",
    "    def post_order:    \n",
    "    \n",
    "    def stop_loss:\n",
    "\n",
    "    def hit_ask_callback:\n",
    "        \n",
    "    def hit_bid_callback:\n",
    "    \n",
    "    def end(self):\n",
    "       \n",
    "    \n",
    "date = \"20170420\"\n",
    "SNP500_tickers = [\"ABT\", \"ABBV\", \"ACN\", \"ACE\", \"ADBE\", \"ADT\", \"AAP\", \"AES\", \"AET\", \"AFL\", \"AMG\", \"A\", \"GAS\", \n",
    "                  \"APD\", \"ARG\", \"AKAM\", \"AA\", \"AGN\", \"ALXN\", \"ALLE\", \"ADS\", \"ALL\", \"ALTR\", \"MO\", \"AMZN\", \"AEE\", \n",
    "                  \"AAL\", \"AEP\", \"AXP\", \"AIG\", \"AMT\", \"AMP\", \"ABC\", \"AME\", \"AMGN\", \"APH\", \"APC\", \"ADI\", \"AON\", \n",
    "                  \"APA\", \"AIV\", \"AMAT\", \"ADM\", \"AIZ\", \"T\", \"ADSK\", \"ADP\", \"AN\", \"AZO\", \"AVGO\", \"AVB\", \"AVY\", \n",
    "                  \"BHI\", \"BLL\", \"BAC\", \"BK\", \"BCR\", \"BXLT\", \"BAX\", \"BBT\", \"BDX\", \"BBBY\", \"BRK-B\", \"BBY\", \"BLX\", \n",
    "                  \"HRB\", \"BA\", \"BWA\", \"BXP\", \"BSK\", \"BMY\", \"BRCM\", \"BF-B\", \"CHRW\", \"CA\", \"CVC\", \"COG\", \"CAM\", \n",
    "                  \"CPB\", \"COF\", \"CAH\", \"HSIC\", \"KMX\", \"CCL\", \"CAT\", \"CBG\", \"CBS\", \"CELG\", \"CNP\", \"CTL\", \"CERN\", \n",
    "                  \"CF\", \"SCHW\", \"CHK\", \"CVX\", \"CMG\", \"CB\", \"CI\", \"XEC\", \"CINF\", \"CTAS\", \"CSCO\", \"C\", \"CTXS\", \n",
    "                  \"CLX\", \"CME\", \"CMS\", \"COH\", \"KO\", \"CCE\", \"CTSH\", \"CL\", \"CMCSA\", \"CMA\", \"CSC\", \"CAG\", \"COP\", \n",
    "                  \"CNX\", \"ED\", \"STZ\", \"GLW\", \"COST\", \"CCI\", \"CSX\", \"CMI\", \"CVS\", \"DHI\", \"DHR\", \"DRI\", \"DVA\", \n",
    "                  \"DE\", \"DLPH\", \"DAL\", \"XRAY\", \"DVN\", \"DO\", \"DTV\", \"DFS\", \"DISCA\", \"DISCK\", \"DG\", \"DLTR\", \"D\", \n",
    "                  \"DOV\", \"DOW\", \"DPS\", \"DTE\", \"DD\", \"DUK\", \"DNB\", \"ETFC\", \"EMN\", \"ETN\", \"EBAY\", \"ECL\", \"EIX\", \n",
    "                  \"EW\", \"EA\", \"EMC\", \"EMR\", \"ENDP\", \"ESV\", \"ETR\", \"EOG\", \"EQT\", \"EFX\", \"EQIX\", \"EQR\", \"ESS\", \n",
    "                  \"EL\", \"ES\", \"EXC\", \"EXPE\", \"EXPD\", \"ESRX\", \"XOM\", \"FFIV\", \"FB\", \"FAST\", \"FDX\", \"FIS\", \"FITB\", \n",
    "                  \"FSLR\", \"FE\", \"FSIV\", \"FLIR\", \"FLS\", \"FLR\", \"FMC\", \"FTI\", \"F\", \"FOSL\", \"BEN\", \"FCX\", \"FTR\", \n",
    "                  \"GME\", \"GPS\", \"GRMN\", \"GD\", \"GE\", \"GGP\", \"GIS\", \"GM\", \"GPC\", \"GNW\", \"GILD\", \"GS\", \"GT\", \"GOOGL\", \n",
    "                  \"GOOG\", \"GWW\", \"HAL\", \"HBI\", \"HOG\", \"HAR\", \"HRS\", \"HIG\", \"HAS\", \"HCA\", \"HCP\", \"HCN\", \"HP\", \n",
    "                  \"HES\", \"HPQ\", \"HD\", \"HON\", \"HRL\", \"HSP\", \"HST\", \"HCBK\", \"HUM\", \"HBAN\", \"ITW\", \"IR\", \"INTC\", \n",
    "                  \"ICE\", \"IBM\", \"IP\", \"IPG\", \"IFF\", \"INTU\", \"ISRG\", \"IVZ\", \"IRM\", \"JEC\", \"JBHT\", \"JNJ\", \"JCI\", \n",
    "                  \"JOY\", \"JPM\", \"JNPR\", \"KSU\", \"K\", \"KEY\", \"GMCR\", \"KMB\", \"KIM\", \"KMI\", \"KLAC\", \"KSS\", \"KRFT\", \n",
    "                  \"KR\", \"LB\", \"LLL\", \"LH\", \"LRCX\", \"LM\", \"LEG\", \"LEN\", \"LVLT\", \"LUK\", \"LLY\", \"LNC\", \"LLTC\", \"LMT\", \n",
    "                  \"L\", \"LOW\", \"LYB\", \"MTB\", \"MAC\", \"M\", \"MNK\", \"MRO\", \"MPC\", \"MAR\", \"MMC\", \"MLM\", \"MAS\", \"MA\", \n",
    "                  \"MAT\", \"MKC\", \"MCD\", \"MHFI\", \"MCK\", \"MJN\", \"MMV\", \"MDT\", \"MRK\", \"MET\", \"KORS\", \"MCHP\", \"MU\", \n",
    "                  \"MSFT\", \"MHK\", \"TAP\", \"MDLZ\", \"MON\", \"MNST\", \"MCO\", \"MS\", \"MOS\", \"MSI\", \"MUR\", \"MYL\", \"NDAQ\", \n",
    "                  \"NOV\", \"NAVI\", \"NTAP\", \"NFLX\", \"NWL\", \"NFX\", \"NEM\", \"NWSA\", \"NEE\", \"NLSN\", \"NKE\", \"NI\", \"NE\", \n",
    "                  \"NBL\", \"JWN\", \"NSC\", \"NTRS\", \"NOC\", \"NRG\", \"NUE\", \"NVDA\", \"ORLY\", \"OXY\", \"OMC\", \"OKE\", \"ORCL\", \n",
    "                  \"OI\", \"PCAR\", \"PLL\", \"PH\", \"PDCO\", \"PAYX\", \"PNR\", \"PBCT\", \"POM\", \"PEP\", \"PKI\", \"PRGO\", \"PFE\", \n",
    "                  \"PCG\", \"PM\", \"PSX\", \"PNW\", \"PXD\", \"PBI\", \"PCL\", \"PNC\", \"RL\", \"PPG\", \"PPL\", \"PX\", \"PCP\", \"PCLN\", \n",
    "                  \"PFG\", \"PG\", \"PGR\", \"PLD\", \"PRU\", \"PEG\", \"PSA\", \"PHM\", \"PVH\", \"QRVO\", \"PWR\", \"QCOM\", \"DGX\", \n",
    "                  \"RRC\", \"RTN\", \"O\", \"RHT\", \"REGN\", \"RF\", \"RSG\", \"RAI\", \"RHI\", \"ROK\", \"COL\", \"ROP\", \"ROST\", \"RLC\", \n",
    "                  \"R\", \"CRM\", \"SNDK\", \"SCG\", \"SLB\", \"SNI\", \"STX\", \"SEE\", \"SRE\", \"SHW\", \"SIAL\", \"SPG\", \"SWKS\", \n",
    "                  \"SLG\", \"SJM\", \"SNA\", \"SO\", \"LUV\", \"SWN\", \"SE\", \"STJ\", \"SWK\", \"SPLS\", \"SBUX\", \"HOT\", \"STT\", \n",
    "                  \"SRCL\", \"SYK\", \"STI\", \"SYMC\", \"SYY\", \"TROW\", \"TGT\", \"TEL\", \"TE\", \"TGNA\", \"THC\", \"TDC\", \"TSO\", \n",
    "                  \"TXN\", \"TXT\", \"HSY\", \"TRV\", \"TMO\", \"TIF\", \"TWX\", \"TWC\", \"TJK\", \"TMK\", \"TSS\", \"TSCO\", \"RIG\", \n",
    "                  \"TRIP\", \"FOXA\", \"TSN\", \"TYC\", \"UA\", \"UNP\", \"UNH\", \"UPS\", \"URI\", \"UTX\", \"UHS\", \"UNM\", \"URBN\", \n",
    "                  \"VFC\", \"VLO\", \"VAR\", \"VTR\", \"VRSN\", \"VZ\", \"VRTX\", \"VIAB\", \"V\", \"VNO\", \"VMC\", \"WMT\", \"WBA\", \n",
    "                  \"DIS\", \"WM\", \"WAT\", \"ANTM\", \"WFC\", \"WDC\", \"WU\", \"WY\", \"WHR\", \"WFM\", \"WMB\", \"WEC\", \"WYN\", \n",
    "                  \"WYNN\", \"XEL\", \"XRX\", \"XLNX\", \"XL\", \"XYL\", \"YHOO\", \"YUM\", \"ZBH\", \"ZION\", \"ZTS\"]\n",
    "start_time = sim.string_to_micro(\"9:55\")\n",
    "end_time = sim.string_to_micro(\"10:00\")\n",
    "side = sim.BUY\n",
    "size = 100\n",
    "simul = sim.Simulator(HKAlgo)\n",
    "simul.run(date, SNP500_tickers[0], use_om=True, start_time=start_time, end_time=end_time, side=side, size=size)\n",
    "\n"
   ]
  },
  {
   "cell_type": "code",
   "execution_count": null,
   "metadata": {
    "collapsed": true
   },
   "outputs": [],
   "source": []
  }
 ],
 "metadata": {
  "anaconda-cloud": {},
  "kernelspec": {
   "display_name": "Python [Root]",
   "language": "python",
   "name": "Python [Root]"
  },
  "language_info": {
   "codemirror_mode": {
    "name": "ipython",
    "version": 2
   },
   "file_extension": ".py",
   "mimetype": "text/x-python",
   "name": "python",
   "nbconvert_exporter": "python",
   "pygments_lexer": "ipython2",
   "version": "2.7.12"
  }
 },
 "nbformat": 4,
 "nbformat_minor": 0
}
