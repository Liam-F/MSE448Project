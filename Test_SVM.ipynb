{
 "cells": [
  {
   "cell_type": "code",
   "execution_count": 41,
   "metadata": {
    "collapsed": false,
    "deletable": true,
    "editable": true
   },
   "outputs": [
    {
     "name": "stdout",
     "output_type": "stream",
     "text": [
      "123.0\n"
     ]
    }
   ],
   "source": [
    "import numpy as np\n",
    "import os\n",
    "from sklearn import svm\n",
    "\n",
    "def get_last_days(dates, ref_date, num):\n",
    "    last_dates = []\n",
    "    # linear search right now\n",
    "    ind = len(dates)\n",
    "    for i in range(len(dates)):\n",
    "        if dates[i] >= ref_date:\n",
    "            ind = i\n",
    "            break\n",
    "    \n",
    "    if ind < num:\n",
    "        print \"not enough historical data to get the last {0} days from {1}\".format(num, ref_date)\n",
    "        return []\n",
    "    else:\n",
    "        return dates[(i - num) : (i - 1)]\n",
    "    \n",
    "    \n",
    "SEC = 1000000\n",
    "MIN = 60 * SEC\n",
    "DOLLAR = 1000000\n",
    "DATA_PATH = \"data/\"\n",
    "\n",
    "ticker = \"IVV\"\n",
    "ref_date = \"20150204\"\n",
    "\n",
    "files = os.listdir(DATA_PATH)\n",
    "dates = []\n",
    "for f in files:\n",
    "    if f.endswith(\"_obp.txt\"):\n",
    "        dates.append(f.split('_')[1])\n",
    "dates.sort()\n",
    "\n",
    "last_dates = get_last_days(dates, ref_date, 15)\n",
    "\n",
    "data = np.zeros(0)\n",
    "sig = np.zeros(0)\n",
    "for date in last_dates:\n",
    "    data_filename = \"{0}{1}_{2}_obp.txt\".format(DATA_PATH, ticker, date)\n",
    "    sig_filename = \"{0}{1}_{2}_sig.txt\".format(DATA_PATH, ticker, date)\n",
    "    if data.shape[0] == 0:\n",
    "        data = np.loadtxt(data_filename)\n",
    "        sig = np.loadtxt(sig_filename)\n",
    "    else:\n",
    "        temp1 = np.loadtxt(data_filename)\n",
    "        temp2 = np.loadtxt(sig_filename)\n",
    "        data = np.concatenate((data, temp1), axis=0)\n",
    "        sig = np.concatenate((sig, temp2), axis=0)\n",
    "\n",
    "clf = svm.SVC(decision_function_shape='ovo')\n",
    "clf.fit(data, sig)\n",
    "\n",
    "train_pred = clf.predict(data)\n",
    "print(np.sum(np.absolute(train_pred)))\n",
    "\n"
   ]
  },
  {
   "cell_type": "code",
   "execution_count": null,
   "metadata": {
    "collapsed": true,
    "deletable": true,
    "editable": true
   },
   "outputs": [],
   "source": []
  }
 ],
 "metadata": {
  "kernelspec": {
   "display_name": "Python 2",
   "language": "python2",
   "name": "python2"
  },
  "language_info": {
   "codemirror_mode": {
    "name": "ipython",
    "version": 2
   },
   "file_extension": ".py",
   "mimetype": "text/x-python",
   "name": "python",
   "nbconvert_exporter": "python",
   "pygments_lexer": "ipython2",
   "version": "2.7.6"
  }
 },
 "nbformat": 4,
 "nbformat_minor": 2
}
